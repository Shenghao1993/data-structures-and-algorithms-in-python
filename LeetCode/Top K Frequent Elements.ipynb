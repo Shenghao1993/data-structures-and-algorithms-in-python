{
 "cells": [
  {
   "cell_type": "markdown",
   "metadata": {},
   "source": [
    "# Top K Frequent Elements\n",
    "Given a non-empty array of integers, return the <b>k</b> most frequent elements.\n",
    "\n",
    "For example,<br/> \n",
    "Given [1, 1, 1, 2, 2, 3] and k = 2, return [1, 2].\n",
    "\n",
    "<b>Note:</b>\n",
    "<ul>\n",
    "<li>You may assume k is always valid, 1 ≤ k ≤ number of unique elements.</li>\n",
    "    <li>Your algorithm’s time complexity <b>must be</b> better than O(n log n), where n is the array’s size.</li>\n",
    "</ul>"
   ]
  },
  {
   "cell_type": "markdown",
   "metadata": {},
   "source": [
    "## Built-in Sort Solution"
   ]
  },
  {
   "cell_type": "code",
   "execution_count": 1,
   "metadata": {},
   "outputs": [],
   "source": [
    "import operator\n",
    "\n",
    "## Time complexity: O(nlogn)\n",
    "class Solution1(object):\n",
    "    def topKFrequent(self, nums, k):\n",
    "        \"\"\"\n",
    "        :type nums: List[int]\n",
    "        :type k: int\n",
    "        :rtype: List[int]\n",
    "        \"\"\"\n",
    "        data, res = {}, []\n",
    "        for i in nums:\n",
    "            data[i] = data[i] + 1 if i in data else 1\n",
    "        \n",
    "        # Sort the dictionary by its value in descending order! \n",
    "        sorted_data = sorted(data.items(), key=operator.itemgetter(1), reverse=True)\n",
    "        print(sorted_data)\n",
    "        \n",
    "        for i in range(k):\n",
    "            res.append(sorted_data[i][0])\n",
    "        return res"
   ]
  },
  {
   "cell_type": "code",
   "execution_count": 2,
   "metadata": {},
   "outputs": [
    {
     "name": "stdout",
     "output_type": "stream",
     "text": [
      "[(1, 3), (2, 2), (3, 1)]\n"
     ]
    },
    {
     "data": {
      "text/plain": [
       "[1, 2]"
      ]
     },
     "execution_count": 2,
     "metadata": {},
     "output_type": "execute_result"
    }
   ],
   "source": [
    "test1 = Solution1()\n",
    "arr = [1, 1, 1, 2, 2, 3]\n",
    "k = 2\n",
    "test1.topKFrequent(arr, k)"
   ]
  },
  {
   "cell_type": "markdown",
   "metadata": {
    "collapsed": true
   },
   "source": [
    "## Bucket Sort Solution"
   ]
  },
  {
   "cell_type": "code",
   "execution_count": 8,
   "metadata": {},
   "outputs": [],
   "source": [
    "## Time complexity: O(n)\n",
    "class Solution2(object):\n",
    "    def topKFrequent(self, nums, k):\n",
    "        \"\"\"\n",
    "        :type nums: List[int]\n",
    "        :type k: int\n",
    "        :rtype: List[int]\n",
    "        \"\"\"\n",
    "        data, res = {}, []\n",
    "        for i in nums:\n",
    "            data[i] = data[i] + 1 if i in data else 1\n",
    "            \n",
    "        bucket = [[] for i in range(len(nums) + 1)] # It gives [[], [], [], ... , []]\n",
    "        for key in data:\n",
    "            bucket[data[key]].append(key)\n",
    "            \n",
    "        for i in range(len(bucket)-1, -1, -1):\n",
    "            if bucket[i]:\n",
    "                res.extend(bucket[i]) # Put the elements in the bucket[i] list to the res list\n",
    "            if len(res) >= k:\n",
    "                break\n",
    "\n",
    "        return res[:k]"
   ]
  },
  {
   "cell_type": "code",
   "execution_count": 9,
   "metadata": {},
   "outputs": [
    {
     "data": {
      "text/plain": [
       "[1, 2]"
      ]
     },
     "execution_count": 9,
     "metadata": {},
     "output_type": "execute_result"
    }
   ],
   "source": [
    "test2 = Solution2()\n",
    "arr = [1, 1, 1, 2, 2, 3] # bucket = [[], [3], [2], [1], [], []]\n",
    "k = 2\n",
    "test2.topKFrequent(arr, k)"
   ]
  },
  {
   "cell_type": "markdown",
   "metadata": {},
   "source": [
    "## Priority Queue Solution"
   ]
  },
  {
   "cell_type": "code",
   "execution_count": 9,
   "metadata": {},
   "outputs": [],
   "source": [
    "## Time complexity: O(nlogk)\n",
    "import heapq\n",
    "\n",
    "class Solution3(object):\n",
    "    def topKFrequent(self, nums, k):\n",
    "        \"\"\"\n",
    "        :type nums: List[int]\n",
    "        :type k: int\n",
    "        :rtype: List[int]\n",
    "        \"\"\"\n",
    "        data, res, pq = {}, [], []\n",
    "        for i in nums:\n",
    "            data[i] = data[i] + 1 if i in data else 1\n",
    "        for key in data:\n",
    "            heapq.heappush(pq, (-data[key], key))\n",
    "        for i in range(k):\n",
    "            res.append(heapq.heappop(pq)[1])\n",
    "        return res"
   ]
  },
  {
   "cell_type": "code",
   "execution_count": 10,
   "metadata": {},
   "outputs": [
    {
     "data": {
      "text/plain": [
       "[1, 2]"
      ]
     },
     "execution_count": 10,
     "metadata": {},
     "output_type": "execute_result"
    }
   ],
   "source": [
    "test3 = Solution3()\n",
    "arr = [1, 1, 1, 2, 2, 3]\n",
    "k = 2\n",
    "test3.topKFrequent(arr, k)"
   ]
  },
  {
   "cell_type": "markdown",
   "metadata": {},
   "source": [
    "## Built-in Function Solution 1"
   ]
  },
  {
   "cell_type": "code",
   "execution_count": 13,
   "metadata": {},
   "outputs": [],
   "source": [
    "import collections\n",
    "\n",
    "class Solution4(object):\n",
    "    def topKFrequent(self, nums, k):\n",
    "        \"\"\"\n",
    "        :type nums: List[int]\n",
    "        :type k: int\n",
    "        :rtype: List[int]\n",
    "        \"\"\"\n",
    "        counter = collections.Counter(nums)\n",
    "        return [item[0] for item in counter.most_common(k)]"
   ]
  },
  {
   "cell_type": "code",
   "execution_count": 14,
   "metadata": {},
   "outputs": [
    {
     "data": {
      "text/plain": [
       "[1, 2]"
      ]
     },
     "execution_count": 14,
     "metadata": {},
     "output_type": "execute_result"
    }
   ],
   "source": [
    "test4 = Solution4()\n",
    "arr = [1, 1, 1, 2, 2, 3]\n",
    "k = 2\n",
    "test4.topKFrequent(arr, k)"
   ]
  },
  {
   "cell_type": "markdown",
   "metadata": {},
   "source": [
    "## Built-in Function Solution 2"
   ]
  },
  {
   "cell_type": "code",
   "execution_count": 15,
   "metadata": {},
   "outputs": [],
   "source": [
    "import collections, heapq\n",
    "\n",
    "class Solution5(object):\n",
    "    def topKFrequent(self, nums, k):\n",
    "        \"\"\"\n",
    "        :type nums: List[int]\n",
    "        :type k: int\n",
    "        :rtype: List[int]\n",
    "        \"\"\"\n",
    "        counter = collections.Counter(nums)\n",
    "        return heapq.nlargest(k, counter, key=lambda x: counter[x])"
   ]
  },
  {
   "cell_type": "code",
   "execution_count": 16,
   "metadata": {},
   "outputs": [
    {
     "data": {
      "text/plain": [
       "[1, 2]"
      ]
     },
     "execution_count": 16,
     "metadata": {},
     "output_type": "execute_result"
    }
   ],
   "source": [
    "test5 = Solution5()\n",
    "arr = [1, 1, 1, 2, 2, 3]\n",
    "k = 2\n",
    "test5.topKFrequent(arr, k)"
   ]
  }
 ],
 "metadata": {
  "kernelspec": {
   "display_name": "Python 3",
   "language": "python",
   "name": "python3"
  },
  "language_info": {
   "codemirror_mode": {
    "name": "ipython",
    "version": 3
   },
   "file_extension": ".py",
   "mimetype": "text/x-python",
   "name": "python",
   "nbconvert_exporter": "python",
   "pygments_lexer": "ipython3",
   "version": "3.6.4"
  }
 },
 "nbformat": 4,
 "nbformat_minor": 2
}
