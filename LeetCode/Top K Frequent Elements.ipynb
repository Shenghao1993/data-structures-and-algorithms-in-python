{
 "cells": [
  {
   "cell_type": "markdown",
   "metadata": {},
   "source": [
    "# Problem Statement\n",
    "Given a non-empty array of integers, return the k most frequent elements.\n",
    "\n",
    "For example,<br/> \n",
    "Given [1, 1, 1, 2, 2, 3] and k = 2, return [1, 2].\n",
    "\n",
    "<b>Note:</b>\n",
    "<ul>\n",
    "<li>You may assume k is always valid, 1 ≤ k ≤ number of unique elements.</li>\n",
    "<li>Your algorithm’s time complexity must be better than O(n log n), where n is the array’s size.</li>\n",
    "</ul>"
   ]
  },
  {
   "cell_type": "markdown",
   "metadata": {},
   "source": [
    "# Solution 1"
   ]
  },
  {
   "cell_type": "code",
   "execution_count": 16,
   "metadata": {
    "collapsed": true
   },
   "outputs": [],
   "source": [
    "import operator\n",
    "\n",
    "class Solution(object):\n",
    "    def topKFrequent(self, nums, k):\n",
    "        \"\"\"\n",
    "        :type nums: List[int]\n",
    "        :type k: int\n",
    "        :rtype: List[int]\n",
    "        \"\"\"\n",
    "        data, res = {}, []\n",
    "        for i in nums:\n",
    "            data[i] = data[i] + 1 if i in data else 1\n",
    "        sorted_data = sorted(data.items(), key=operator.itemgetter(1), reverse=True)\n",
    "        \n",
    "        for i in range(k):\n",
    "            res.append(sorted_data[i][0])\n",
    "        return res"
   ]
  },
  {
   "cell_type": "code",
   "execution_count": 17,
   "metadata": {},
   "outputs": [
    {
     "data": {
      "text/plain": [
       "[1, 2]"
      ]
     },
     "execution_count": 17,
     "metadata": {},
     "output_type": "execute_result"
    }
   ],
   "source": [
    "test1 = Solution()\n",
    "arr = [1, 1, 1, 2, 2, 3]\n",
    "k = 2\n",
    "test1.topKFrequent(arr, k)"
   ]
  },
  {
   "cell_type": "code",
   "execution_count": null,
   "metadata": {
    "collapsed": true
   },
   "outputs": [],
   "source": [
    "https://blog.csdn.net/coder_orz/article/details/52075042\n",
    "\n",
    "http://www.nolanzong.com/2015/07/10/xiao-zhao-ying-pin/"
   ]
  }
 ],
 "metadata": {
  "kernelspec": {
   "display_name": "Python 3",
   "language": "python",
   "name": "python3"
  },
  "language_info": {
   "codemirror_mode": {
    "name": "ipython",
    "version": 3
   },
   "file_extension": ".py",
   "mimetype": "text/x-python",
   "name": "python",
   "nbconvert_exporter": "python",
   "pygments_lexer": "ipython3",
   "version": "3.6.4"
  }
 },
 "nbformat": 4,
 "nbformat_minor": 2
}
