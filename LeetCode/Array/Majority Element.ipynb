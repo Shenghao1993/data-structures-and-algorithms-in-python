{
 "cells": [
  {
   "cell_type": "markdown",
   "metadata": {},
   "source": [
    "# Majority Element\n",
    "Given an array of size n, find the majority element. The majority element is the element that appears <b>more than</b> ⌊ n/2 ⌋ times.\n",
    "\n",
    "You may assume that the array is non-empty and the majority element always exist in the array."
   ]
  },
  {
   "cell_type": "markdown",
   "metadata": {},
   "source": [
    "## Examples\n",
    "<b>Input:</b> [3, 2, 3]<br/>\n",
    "<b>Output:</b> 3\n",
    "    \n",
    "<b>Input:</b> [2, 2, 1, 1, 1, 2, 2]<br/>\n",
    "<b>Output:</b> 2"
   ]
  },
  {
   "cell_type": "markdown",
   "metadata": {},
   "source": [
    "## My Solution"
   ]
  },
  {
   "cell_type": "code",
   "execution_count": 4,
   "metadata": {
    "collapsed": true
   },
   "outputs": [],
   "source": [
    "class Solution1:\n",
    "    def majorityElement(self, nums):\n",
    "        \"\"\"\n",
    "        :type nums: List[int]\n",
    "        :rtype: int\n",
    "        \"\"\"\n",
    "        nums_count = {}\n",
    "        if len(nums) < 1:\n",
    "            return\n",
    "        \n",
    "        if len(nums) < 2:\n",
    "            return nums[0]\n",
    "        \n",
    "        for num in nums:\n",
    "            if num in nums_count:\n",
    "                nums_count[num] += 1\n",
    "            else:\n",
    "                nums_count[num] = 1\n",
    "            \n",
    "            if nums_count[num] > len(nums) // 2:\n",
    "                return num\n",
    "        \n",
    "        return"
   ]
  },
  {
   "cell_type": "code",
   "execution_count": 7,
   "metadata": {},
   "outputs": [
    {
     "data": {
      "text/plain": [
       "3"
      ]
     },
     "execution_count": 7,
     "metadata": {},
     "output_type": "execute_result"
    }
   ],
   "source": [
    "test = Solution1()\n",
    "arr = [3, 2, 3]\n",
    "test.majorityElement(arr)"
   ]
  },
  {
   "cell_type": "markdown",
   "metadata": {},
   "source": [
    "## Solution 2: HashMap\n",
    "### Intuition\n",
    "We know that the majority element occurs more than ⌊ n/2 ⌋ times, and a <i style=\"color:red\">HashMap</i> allows us to count element occurrences efficiently.\n",
    "\n",
    "### Algorithm\n",
    "\n",
    "We can use a <i style=\"color:red\">HashMap</i> that maps elements to counts in order to count occurrences in linear time by looping over <i style=\"color:red\">nums</i>. Then, we simply return the key with maximum value."
   ]
  },
  {
   "cell_type": "code",
   "execution_count": 8,
   "metadata": {
    "collapsed": true
   },
   "outputs": [],
   "source": [
    "class Solution2:\n",
    "    def majorityElement(self, nums):\n",
    "        counts = collections.Counter(nums)\n",
    "        return max(counts.keys(), key=counts.get)"
   ]
  },
  {
   "cell_type": "code",
   "execution_count": 9,
   "metadata": {},
   "outputs": [
    {
     "data": {
      "text/plain": [
       "2"
      ]
     },
     "execution_count": 9,
     "metadata": {},
     "output_type": "execute_result"
    }
   ],
   "source": [
    "test = Solution1()\n",
    "arr = [2, 2, 1, 1, 1, 2, 2]\n",
    "test.majorityElement(arr)"
   ]
  },
  {
   "cell_type": "code",
   "execution_count": null,
   "metadata": {
    "collapsed": true
   },
   "outputs": [],
   "source": []
  }
 ],
 "metadata": {
  "kernelspec": {
   "display_name": "Python 3",
   "language": "python",
   "name": "python3"
  },
  "language_info": {
   "codemirror_mode": {
    "name": "ipython",
    "version": 3
   },
   "file_extension": ".py",
   "mimetype": "text/x-python",
   "name": "python",
   "nbconvert_exporter": "python",
   "pygments_lexer": "ipython3",
   "version": "3.6.4"
  }
 },
 "nbformat": 4,
 "nbformat_minor": 2
}
