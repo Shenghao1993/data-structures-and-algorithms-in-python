{
 "cells": [
  {
   "cell_type": "markdown",
   "metadata": {},
   "source": [
    "# Plus One\n",
    "Given a <b>non-empty</b> array of digits representing a non-negative integer, plus one to the integer.\n",
    "\n",
    "The digits are stored such that the most significant digit is at the head of the list, and each element in the array contain a single digit.\n",
    "\n",
    "You may assume the integer does not contain any leading zero, except the number 0 itself."
   ]
  },
  {
   "cell_type": "markdown",
   "metadata": {},
   "source": [
    "## Examples\n",
    "<b>Input:</b> [1, 2, 3]<br/>\n",
    "<b>Output:</b> [1, 2, 4]<br/>\n",
    "<b>Explanation:</b> The array represents the integer 123.\n",
    "\n",
    "<b>Input:</b> [4, 3, 2, 1]<br/>\n",
    "<b>Output:</b> [4, 3, 2, 2]<br/>\n",
    "<b>Explanation:</b> The array represents the integer 4321."
   ]
  },
  {
   "cell_type": "markdown",
   "metadata": {},
   "source": [
    "## My Solution"
   ]
  },
  {
   "cell_type": "code",
   "execution_count": 30,
   "metadata": {},
   "outputs": [],
   "source": [
    "class Solution1:\n",
    "    def plusOne(self, digits):\n",
    "        \"\"\"\n",
    "        :type digits: List[int]\n",
    "        :rtype: List[int]\n",
    "        \"\"\"\n",
    "        N = len(digits)\n",
    "        if N == 0:\n",
    "            return\n",
    "        \n",
    "        num = 0\n",
    "        i = N\n",
    "        while i > 0:\n",
    "            num += digits[N - i] * 10 ** (i - 1)\n",
    "            i -= 1\n",
    "        \n",
    "        num += 1\n",
    "        new_digits = []\n",
    "        while num > 0:\n",
    "            new_digits.append(num % 10)\n",
    "            num = num // 10\n",
    "        \n",
    "        new_digits.reverse()\n",
    "        return new_digits"
   ]
  },
  {
   "cell_type": "code",
   "execution_count": 31,
   "metadata": {},
   "outputs": [
    {
     "data": {
      "text/plain": [
       "[1, 2, 4]"
      ]
     },
     "execution_count": 31,
     "metadata": {},
     "output_type": "execute_result"
    }
   ],
   "source": [
    "arr = [1, 2, 3]\n",
    "test = Solution1()\n",
    "test.plusOne(arr)"
   ]
  },
  {
   "cell_type": "markdown",
   "metadata": {},
   "source": [
    "## Solution 2"
   ]
  },
  {
   "cell_type": "code",
   "execution_count": 36,
   "metadata": {
    "collapsed": true
   },
   "outputs": [],
   "source": [
    "class Solution2(object):\n",
    "    def plusOne(self, digits):\n",
    "        \"\"\"\n",
    "        :type digits: List[int]\n",
    "        :rtype: List[int]\n",
    "        \"\"\"\n",
    "        for i in range(len(digits)-1, -1, -1):\n",
    "            if digits[i] < 9:\n",
    "                digits[i] = digits[i] + 1\n",
    "                return digits\n",
    "            else:\n",
    "                digits[i] = 0\n",
    "        digits.insert(0, 1)\n",
    "        return digits"
   ]
  },
  {
   "cell_type": "code",
   "execution_count": 38,
   "metadata": {},
   "outputs": [
    {
     "data": {
      "text/plain": [
       "[4, 3, 2, 2]"
      ]
     },
     "execution_count": 38,
     "metadata": {},
     "output_type": "execute_result"
    }
   ],
   "source": [
    "arr = [4, 3, 2, 1]\n",
    "test = Solution1()\n",
    "test.plusOne(arr)"
   ]
  }
 ],
 "metadata": {
  "kernelspec": {
   "display_name": "Python 3",
   "language": "python",
   "name": "python3"
  },
  "language_info": {
   "codemirror_mode": {
    "name": "ipython",
    "version": 3
   },
   "file_extension": ".py",
   "mimetype": "text/x-python",
   "name": "python",
   "nbconvert_exporter": "python",
   "pygments_lexer": "ipython3",
   "version": "3.6.4"
  }
 },
 "nbformat": 4,
 "nbformat_minor": 2
}
