{
 "cells": [
  {
   "cell_type": "markdown",
   "metadata": {},
   "source": [
    "# Best Time to Buy and Sell Stock II\n",
    "Say you have an array for which the ith element is the price of a given stock on day i.\n",
    "\n",
    "Design an algorithm to find the maximum profit. You may complete as many transactions as you like (i.e., buy one and sell one share of the stock multiple times).\n",
    "\n",
    "<b>Note:</b> You may not engage in multiple transactions at the same time (i.e., you must sell the stock before you buy again)."
   ]
  },
  {
   "cell_type": "markdown",
   "metadata": {},
   "source": [
    "## Examples\n",
    "<b>Input:</b> [7, 1, 5, 3, 6, 4]<br/>\n",
    "<b>Output:</b> 7<br/>\n",
    "<b>Explanation:</b> Buy on day 2 (price = 1) and sell on day 3 (price = 5), profit = 5 - 1 = 4.<br/>\n",
    "             Then buy on day 4 (price = 3) and sell on day 5 (price = 6), profit = 6 - 3 = 3.\n",
    "             \n",
    "<b>Input:</b> [1, 2, 3, 4, 5]<br/>\n",
    "<b>Output:</b> 4<br/>\n",
    "<b>Explanation:</b> Buy on day 1 (price = 1) and sell on day 5 (price = 5), profit = 5 - 1 = 4.\n",
    "             Note that you cannot buy on day 1, buy on day 2 and sell them later, as you are\n",
    "             engaging multiple transactions at the same time. You must sell before buying again.\n",
    "\n",
    "<b>Input:</b> [7, 6, 4, 3, 1]<br/>\n",
    "<b>Output:</b> 0<br/>\n",
    "<b>Explanation:</b> In this case, no transaction is done, i.e. max profit = 0."
   ]
  },
  {
   "cell_type": "markdown",
   "metadata": {},
   "source": [
    "## Approach 1: Peak Valley Approach\n",
    "<b>Algorithm</b><br/>\n",
    "Say the given array is: [7, 1, 5, 3, 6, 4].<br/>\n",
    "If we plot the numbers of the given array on a graph, we get:\n",
    "![title](images/122_maxprofit_1.png)\n",
    "If we analyze the graph, we notice that the points of interest are the consecutive valleys and peaks.<br/>\n",
    "Mathematically speaking:\n",
    "<p style=\"text-align: center\"><i><b>TotalProfit= ∑(height(peak_i) - height(valley_i))</b></i></p>\n",
    "The key point is we need to consider every peak immediately following a valley to maximize the profit. In case we skip one of the peaks (trying to obtain more profit), we will end up losing the profit over one of the transactions leading to an overall lesser profit.\n",
    "\n",
    "For example, in the above case, if we skip <i>peak_i</i> and <i>valley_i</i> trying to obtain more profit by considering points with more difference in heights, the net profit obtained will always be lesser than the one obtained by including them, since <i>C</i> will always be lesser than <i>A + B</i>."
   ]
  },
  {
   "cell_type": "code",
   "execution_count": 8,
   "metadata": {
    "collapsed": true
   },
   "outputs": [],
   "source": [
    "class Solution1:\n",
    "    def maxProfit(self, prices):\n",
    "        \"\"\"\n",
    "        :type prices: List[int]\n",
    "        :rtype: int\n",
    "        \"\"\"\n",
    "        if len(prices) < 1:\n",
    "            return 0\n",
    "        \n",
    "        i = 0\n",
    "        valley = peak = prices[0]\n",
    "        maxprofit = 0\n",
    "        while i < len(prices) - 1:\n",
    "            while i < len(prices) - 1 and prices[i] >= prices[i + 1]:\n",
    "                i += 1\n",
    "            valley = prices[i]\n",
    "            while i < len(prices) - 1 and prices[i] <= prices[i + 1]:\n",
    "                i += 1\n",
    "            peak = prices[i]\n",
    "            maxprofit += peak - valley\n",
    "        \n",
    "        return maxprofit"
   ]
  },
  {
   "cell_type": "code",
   "execution_count": 9,
   "metadata": {},
   "outputs": [
    {
     "data": {
      "text/plain": [
       "7"
      ]
     },
     "execution_count": 9,
     "metadata": {},
     "output_type": "execute_result"
    }
   ],
   "source": [
    "test1 = Solution1()\n",
    "nums = [7, 1, 5, 3, 6, 4]\n",
    "test1.maxProfit(nums)"
   ]
  },
  {
   "cell_type": "markdown",
   "metadata": {},
   "source": [
    "## Complexity Analysis\n",
    "<ul>\n",
    "<li>Time complexity : <i>O(n)</i>. Single pass.</li>\n",
    "<li>Space complexity: <i>O(1)</i>. Constant space needed.</li>\n",
    "</ul>"
   ]
  },
  {
   "cell_type": "markdown",
   "metadata": {},
   "source": [
    "## Approach 2: Simple One Pass\n",
    "<b>Algorithm</b>\n",
    "This solution follows the logic used in Approach 2 itself, but with only a slight variation. In this case, instead of looking for every peak following a valley, we can simply go on crawling over the slope and keep on adding the profit obtained from every consecutive transaction. In the end,we will be using the peaks and valleys effectively, but we need not track the costs corresponding to the peaks and valleys along with the maximum profit, but we can directly keep on adding the difference between the consecutive numbers of the array if the second number is larger than the first one, and at the total sum we obtain will be the maximum profit. This approach will simplify the solution. This can be made clearer by taking this example:<br/>\n",
    "[1, 7, 2, 3, 6, 7, 6, 7]\n",
    "\n",
    "The graph corresponding to this array is:<br/>\n",
    "![title](images/122_maxprofit_2.png)\n",
    "\n",
    "From the above graph, we can observe that the sum <i>A + B + C</i> is equal to the difference <i>D</i> corresponding to the difference between the heights of the consecutive peak and valley.\n",
    "\n"
   ]
  },
  {
   "cell_type": "code",
   "execution_count": 5,
   "metadata": {
    "collapsed": true
   },
   "outputs": [],
   "source": [
    "class Solution2:\n",
    "    def maxProfit(self, prices):\n",
    "        \"\"\"\n",
    "        :type prices: List[int]\n",
    "        :rtype: int\n",
    "        \"\"\"\n",
    "        maxprofit = 0\n",
    "        for i in range(1, len(prices)):\n",
    "            if prices[i] > prices[i - 1]:\n",
    "                maxprofit += prices[i] - prices[i - 1]\n",
    "        return maxprofit"
   ]
  },
  {
   "cell_type": "code",
   "execution_count": 6,
   "metadata": {},
   "outputs": [
    {
     "data": {
      "text/plain": [
       "12"
      ]
     },
     "execution_count": 6,
     "metadata": {},
     "output_type": "execute_result"
    }
   ],
   "source": [
    "test2 = Solution2()\n",
    "nums = [1, 7, 2, 3, 6, 7, 6, 7]\n",
    "test2.maxProfit(nums)"
   ]
  },
  {
   "cell_type": "markdown",
   "metadata": {},
   "source": [
    "## Complexity Analysis\n",
    "<ul>\n",
    "<li>Time complexity : <i>O(n)</i>. Single pass.</li>\n",
    "<li>Space complexity: <i>O(1)</i>. Constant space needed.</li>\n",
    "</ul>"
   ]
  }
 ],
 "metadata": {
  "kernelspec": {
   "display_name": "Python 3",
   "language": "python",
   "name": "python3"
  },
  "language_info": {
   "codemirror_mode": {
    "name": "ipython",
    "version": 3
   },
   "file_extension": ".py",
   "mimetype": "text/x-python",
   "name": "python",
   "nbconvert_exporter": "python",
   "pygments_lexer": "ipython3",
   "version": "3.6.4"
  }
 },
 "nbformat": 4,
 "nbformat_minor": 2
}
