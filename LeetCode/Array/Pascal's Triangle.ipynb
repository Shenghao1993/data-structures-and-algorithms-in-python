{
 "cells": [
  {
   "cell_type": "markdown",
   "metadata": {},
   "source": [
    "# Pascal's Triangle\n",
    "Given a non-negative integer <i>numRows</i>, generate the first <i>numRows</i> of Pascal's triangle.\n",
    "\n",
    "![title](images/PascalTriangleAnimated2.gif)\n",
    "\n",
    "In Pascal's triangle, each number is the sum of the two numbers directly above it."
   ]
  },
  {
   "cell_type": "markdown",
   "metadata": {},
   "source": [
    "## Example\n",
    "<b>Input:</b> 5<br/>\n",
    "<b>Output:</b><br/>\n",
    "[<br/>\n",
    "&emsp;&emsp;&ensp;[1],<br/>\n",
    "&emsp;&emsp;[1, 1],<br/>\n",
    "&emsp;&ensp;[1, 2, 1],<br/>\n",
    "&emsp;[1, 3, 3, 1],<br/>\n",
    "&ensp;[1, 4, 6, 4, 1]<br/>\n",
    "]"
   ]
  },
  {
   "cell_type": "markdown",
   "metadata": {},
   "source": [
    "## My Solution"
   ]
  },
  {
   "cell_type": "code",
   "execution_count": 25,
   "metadata": {},
   "outputs": [],
   "source": [
    "class Solution1:    \n",
    "    def generate(self, numRows):\n",
    "        \"\"\"\n",
    "        :type numRows: int\n",
    "        :rtype: List[List[int]]\n",
    "        \"\"\"\n",
    "        triangle = []\n",
    "        pascal = {}\n",
    "        for i in range(numRows):\n",
    "            if i == 0:\n",
    "                pascal[i + 1] = [1]\n",
    "            elif i == 1:\n",
    "                pascal[i + 1] = [1, 1]\n",
    "            else:\n",
    "                nums = pascal[i]\n",
    "                pascal[i + 1] = [1] + [(nums[j] + nums[j + 1]) for j in range(len(nums) - 1)] + [1]\n",
    "        \n",
    "        for k in range(numRows):\n",
    "            triangle.append(pascal[k + 1])\n",
    "        \n",
    "        return triangle"
   ]
  },
  {
   "cell_type": "code",
   "execution_count": 26,
   "metadata": {},
   "outputs": [
    {
     "data": {
      "text/plain": [
       "[[1], [1, 1], [1, 2, 1], [1, 3, 3, 1], [1, 4, 6, 4, 1]]"
      ]
     },
     "execution_count": 26,
     "metadata": {},
     "output_type": "execute_result"
    }
   ],
   "source": [
    "test = Solution1()\n",
    "test.generate(5)"
   ]
  },
  {
   "cell_type": "markdown",
   "metadata": {},
   "source": [
    "## Standard Solution"
   ]
  },
  {
   "cell_type": "code",
   "execution_count": 27,
   "metadata": {},
   "outputs": [],
   "source": [
    "class Solution2:\n",
    "    def generate(self, num_rows):\n",
    "        triangle = []\n",
    "\n",
    "        for row_num in range(num_rows):\n",
    "            # The first and last row elements are always 1.\n",
    "            row = [None for _ in range(row_num+1)]\n",
    "            row[0], row[-1] = 1, 1\n",
    "\n",
    "            # Each triangle element is equal to the sum of the elements\n",
    "            # above-and-to-the-left and above-and-to-the-right.\n",
    "            for j in range(1, len(row)-1):\n",
    "                row[j] = triangle[row_num-1][j-1] + triangle[row_num-1][j]\n",
    "\n",
    "            triangle.append(row)\n",
    "\n",
    "        return triangle"
   ]
  },
  {
   "cell_type": "code",
   "execution_count": 28,
   "metadata": {},
   "outputs": [
    {
     "data": {
      "text/plain": [
       "[[1], [1, 1], [1, 2, 1], [1, 3, 3, 1], [1, 4, 6, 4, 1], [1, 5, 10, 10, 5, 1]]"
      ]
     },
     "execution_count": 28,
     "metadata": {},
     "output_type": "execute_result"
    }
   ],
   "source": [
    "test = Solution2()\n",
    "test.generate(6)"
   ]
  }
 ],
 "metadata": {
  "kernelspec": {
   "display_name": "Python 3",
   "language": "python",
   "name": "python3"
  },
  "language_info": {
   "codemirror_mode": {
    "name": "ipython",
    "version": 3
   },
   "file_extension": ".py",
   "mimetype": "text/x-python",
   "name": "python",
   "nbconvert_exporter": "python",
   "pygments_lexer": "ipython3",
   "version": "3.6.4"
  }
 },
 "nbformat": 4,
 "nbformat_minor": 2
}
