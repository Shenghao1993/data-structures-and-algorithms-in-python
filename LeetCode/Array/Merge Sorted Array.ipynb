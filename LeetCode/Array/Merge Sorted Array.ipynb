{
 "cells": [
  {
   "cell_type": "markdown",
   "metadata": {},
   "source": [
    "# Merge Sorted Array\n",
    "Given two sorted integer arrays nums1 and nums2, merge nums2 into nums1 as one sorted array.\n",
    "\n",
    "<b>Note:</b>\n",
    "<ul>\n",
    "    <li>The number of elements initialized in nums1 and nums2 are m and n respectively.</li>\n",
    "<li>You may assume that nums1 has enough space (size that is greater or equal to m + n) to hold additional elements from nums2.</li>\n",
    "</ul>"
   ]
  },
  {
   "cell_type": "markdown",
   "metadata": {},
   "source": [
    "## Example\n",
    "<b>Input:</b><br/>\n",
    "nums1 = [1, 2, 3, 0, 0, 0], m = 3<br/>\n",
    "nums2 = [2, 5, 6],          n = 3\n",
    "\n",
    "<b>Output:</b> [1, 2, 2, 3, 5, 6]"
   ]
  },
  {
   "cell_type": "markdown",
   "metadata": {},
   "source": [
    "## Solution"
   ]
  },
  {
   "cell_type": "code",
   "execution_count": 6,
   "metadata": {},
   "outputs": [],
   "source": [
    "class Solution:\n",
    "    def merge(self, nums1, m, nums2, n):\n",
    "        \"\"\"\n",
    "        :type nums1: List[int]\n",
    "        :type m: int\n",
    "        :type nums2: List[int]\n",
    "        :type n: int\n",
    "        :rtype: void Do not return anything, modify nums1 in-place instead.\n",
    "        \"\"\"\n",
    "        p, q = m - 1, n - 1\n",
    "        while p >= 0 and q >= 0:\n",
    "            if nums1[p] > nums2[q]:\n",
    "                nums1[p+q+1] = nums1[p]\n",
    "                p -= 1\n",
    "            else:\n",
    "                nums1[p+q+1] = nums2[q]\n",
    "                q -= 1\n",
    "            print(\"p = \", p, \"q = \", q, \"Sorted array: \", nums1, sep = ' ')\n",
    "        nums1[:q+1] = nums2[:q+1]"
   ]
  },
  {
   "cell_type": "code",
   "execution_count": 8,
   "metadata": {},
   "outputs": [
    {
     "name": "stdout",
     "output_type": "stream",
     "text": [
      "p =  2 q =  1 Sorted array:  [1, 2, 3, 0, 0, 6]\n",
      "p =  2 q =  0 Sorted array:  [1, 2, 3, 0, 5, 6]\n",
      "p =  1 q =  0 Sorted array:  [1, 2, 3, 3, 5, 6]\n",
      "p =  1 q =  -1 Sorted array:  [1, 2, 2, 3, 5, 6]\n"
     ]
    },
    {
     "data": {
      "text/plain": [
       "[1, 2, 2, 3, 5, 6]"
      ]
     },
     "execution_count": 8,
     "metadata": {},
     "output_type": "execute_result"
    }
   ],
   "source": [
    "test = Solution()\n",
    "arr1 = [1, 2, 3, 0, 0, 0]\n",
    "arr2 = [2, 5, 6]\n",
    "m = n = 3\n",
    "test.merge(arr1, m, arr2, n)\n",
    "arr1"
   ]
  }
 ],
 "metadata": {
  "kernelspec": {
   "display_name": "Python 3",
   "language": "python",
   "name": "python3"
  },
  "language_info": {
   "codemirror_mode": {
    "name": "ipython",
    "version": 3
   },
   "file_extension": ".py",
   "mimetype": "text/x-python",
   "name": "python",
   "nbconvert_exporter": "python",
   "pygments_lexer": "ipython3",
   "version": "3.6.4"
  }
 },
 "nbformat": 4,
 "nbformat_minor": 2
}
