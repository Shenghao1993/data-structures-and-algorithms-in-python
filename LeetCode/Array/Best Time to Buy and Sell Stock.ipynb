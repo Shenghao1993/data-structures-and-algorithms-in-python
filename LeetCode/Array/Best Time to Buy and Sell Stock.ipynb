{
 "cells": [
  {
   "cell_type": "markdown",
   "metadata": {},
   "source": [
    "# Best Time to Buy and Sell Stock\n",
    "Say you have an array for which the ith element is the price of a given stock on day i.\n",
    "\n",
    "If you were only permitted to complete at most one transaction (i.e., buy one and sell one share of the stock), design an algorithm to find the maximum profit.\n",
    "\n",
    "Note that you cannot sell a stock before you buy one."
   ]
  },
  {
   "cell_type": "markdown",
   "metadata": {},
   "source": [
    "## Examples\n",
    "<b>Input:</b> [7, 1, 5, 3, 6, 4]<br/>\n",
    "<b>Output:</b> 5<br/>\n",
    "<b>Explanation:</b> Buy on day 2 (price = 1) and sell on day 5 (price = 6), profit = 6 - 1 = 5.<br/>\n",
    "             Not 7 - 1 = 6, as selling price needs to be larger than buying price.\n",
    "             \n",
    "<b>Input:</b> [7, 6, 4, 3, 1]<br/>\n",
    "<b>Output:</b> 0<br/>\n",
    "<b>Explanation:</b> In this case, no transaction is done, i.e. max profit = 0."
   ]
  },
  {
   "cell_type": "markdown",
   "metadata": {},
   "source": [
    "## Solution: One Pass\n",
    "<b>Algorithm</b><br/>\n",
    "Say the given array is: [7, 1, 5, 3, 6, 4]<br/>\n",
    "If we plot the numbers of the given array on a graph, we get:\n",
    "![title](images/121_profit_graph.png)\n",
    "The points of interest are the peaks and valleys in the given graph. We need to find the largest peak following the smallest valley. We can maintain two variables - minprice and maxprofit corresponding to the smallest valley and maximum profit (maximum difference between selling price and minprice) obtained so far respectively."
   ]
  },
  {
   "cell_type": "code",
   "execution_count": 1,
   "metadata": {
    "collapsed": true
   },
   "outputs": [],
   "source": [
    "class Solution:\n",
    "    def maxProfit(self, prices):\n",
    "        \"\"\"\n",
    "        :type prices: List[int]\n",
    "        :rtype: int\n",
    "        \"\"\"\n",
    "        if len(prices) < 1:\n",
    "            return 0\n",
    "        \n",
    "        min_price = prices[0]\n",
    "        max_profit = 0\n",
    "        for price in prices:\n",
    "            min_price = min(min_price, price)\n",
    "            current_profit = price - min_price\n",
    "            max_profit = max(max_profit, current_profit)\n",
    "\n",
    "        return max_profit"
   ]
  },
  {
   "cell_type": "code",
   "execution_count": 2,
   "metadata": {},
   "outputs": [
    {
     "data": {
      "text/plain": [
       "5"
      ]
     },
     "execution_count": 2,
     "metadata": {},
     "output_type": "execute_result"
    }
   ],
   "source": [
    "test = Solution()\n",
    "stock_prices = [7, 1, 5, 3, 6, 4]\n",
    "# stock_prices = [7, 6, 4, 3, 1]\n",
    "test.maxProfit(stock_prices)"
   ]
  },
  {
   "cell_type": "markdown",
   "metadata": {},
   "source": [
    "## Complexity Analysis\n",
    "<ul>\n",
    "<li>Time complexity : O(n). Only a single pass is needed.</li>\n",
    "<li>Space complexity : O(1). Only two variables are used.</li>\n",
    "</ul>"
   ]
  }
 ],
 "metadata": {
  "kernelspec": {
   "display_name": "Python 3",
   "language": "python",
   "name": "python3"
  },
  "language_info": {
   "codemirror_mode": {
    "name": "ipython",
    "version": 3
   },
   "file_extension": ".py",
   "mimetype": "text/x-python",
   "name": "python",
   "nbconvert_exporter": "python",
   "pygments_lexer": "ipython3",
   "version": "3.6.4"
  }
 },
 "nbformat": 4,
 "nbformat_minor": 2
}
