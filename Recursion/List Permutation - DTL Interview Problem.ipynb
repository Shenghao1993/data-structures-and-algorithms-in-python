{
 "cells": [
  {
   "cell_type": "markdown",
   "metadata": {},
   "source": [
    "# List Permutation\n",
    "Given a list of numbers, write a function to generate a list of all the permutations of that list of numbers.\n",
    "<br/>\n",
    "For example, given nums = [1, 2, 3], the function should return 6, i.e. the length of [[1, 2, 3], [1, 3, 2], [2, 1, 3], [2, 3, 1], [3, 1, 2], [3, 2, 1]]."
   ]
  },
  {
   "cell_type": "markdown",
   "metadata": {},
   "source": [
    "## My Solution"
   ]
  },
  {
   "cell_type": "code",
   "execution_count": 19,
   "metadata": {
    "collapsed": true
   },
   "outputs": [],
   "source": [
    "def permute(nums):\n",
    "    permutes = []\n",
    "    \n",
    "    # Base Case\n",
    "    if len(nums) == 1:\n",
    "        permutes = [nums]\n",
    "        \n",
    "    else:\n",
    "        # For every number in the list\n",
    "        for i, num in enumerate(nums):\n",
    "            for perm in permute(nums[:i] + nums[i+1:]):\n",
    "                # print([num] + perm)\n",
    "                \n",
    "                # Add it to output\n",
    "                permutes.append([num] + perm)\n",
    "    return permutes"
   ]
  },
  {
   "cell_type": "code",
   "execution_count": 20,
   "metadata": {},
   "outputs": [
    {
     "name": "stdout",
     "output_type": "stream",
     "text": [
      "120\n"
     ]
    }
   ],
   "source": [
    "nums = [1, 2, 3, 4, 5]\n",
    "# permute(nums)\n",
    "print(len(permute(nums)))"
   ]
  }
 ],
 "metadata": {
  "kernelspec": {
   "display_name": "Python 3",
   "language": "python",
   "name": "python3"
  },
  "language_info": {
   "codemirror_mode": {
    "name": "ipython",
    "version": 3
   },
   "file_extension": ".py",
   "mimetype": "text/x-python",
   "name": "python",
   "nbconvert_exporter": "python",
   "pygments_lexer": "ipython3",
   "version": "3.6.4"
  }
 },
 "nbformat": 4,
 "nbformat_minor": 2
}
