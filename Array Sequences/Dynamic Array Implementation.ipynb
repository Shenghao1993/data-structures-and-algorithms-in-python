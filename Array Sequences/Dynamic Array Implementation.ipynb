{
 "cells": [
  {
   "cell_type": "markdown",
   "metadata": {},
   "source": [
    "# Dynamic Array Implementation"
   ]
  },
  {
   "cell_type": "code",
   "execution_count": 10,
   "metadata": {
    "collapsed": true
   },
   "outputs": [],
   "source": [
    "import sys, ctypes\n",
    "\n",
    "class DynamicArray(object):\n",
    "    \n",
    "    def __init__(self):\n",
    "        \n",
    "        self.n = 0 # Count of element\n",
    "        self.capacity = 1\n",
    "        self.A = self.make_array(self.capacity) # Initiate raw array\n",
    "    \n",
    "    def __len__(self):\n",
    "        return self.n\n",
    "    \n",
    "    # Get item at index k\n",
    "    def __getitem__(self, k):\n",
    "        \n",
    "        if not 0 <= k < self.n:\n",
    "            return IndexError('K is out of bounds!')\n",
    "        \n",
    "        return self.A[k]\n",
    "    \n",
    "    def append(self, ele):\n",
    "        \n",
    "        if self.n == self.capacity:\n",
    "            self._resize(2 * self.capacity) # 2x if capacity isn't enough\n",
    "        \n",
    "        self.A[self.n] = ele\n",
    "        self.n += 1\n",
    "    \n",
    "    def _resize(self, new_cap):\n",
    "        \n",
    "        B = self.make_array(new_cap)\n",
    "        \n",
    "        for k in range(self.n):\n",
    "            B[k] = self.A[k] # Reference all the existing values from A into B\n",
    "            \n",
    "        self.A = B\n",
    "        self.capacity = new_cap\n",
    "    \n",
    "    def make_array(self, new_cap):\n",
    "        \n",
    "        return (new_cap * ctypes.py_object)()"
   ]
  },
  {
   "cell_type": "markdown",
   "metadata": {},
   "source": [
    "# Test the implementation"
   ]
  },
  {
   "cell_type": "code",
   "execution_count": 13,
   "metadata": {},
   "outputs": [
    {
     "name": "stdout",
     "output_type": "stream",
     "text": [
      "Length:   1; Size in bytes:   56\n"
     ]
    }
   ],
   "source": [
    "arr = DynamicArray()\n",
    "arr.append(1)\n",
    "print('Length: {0:3d}; Size in bytes: {1:4d}'.format(len(arr), sys.getsizeof(arr)))"
   ]
  },
  {
   "cell_type": "code",
   "execution_count": 14,
   "metadata": {},
   "outputs": [
    {
     "name": "stdout",
     "output_type": "stream",
     "text": [
      "Length:   2; Size in bytes:   56\n"
     ]
    }
   ],
   "source": [
    "arr.append(2)\n",
    "print('Length: {0:3d}; Size in bytes: {1:4d}'.format(len(arr), sys.getsizeof(arr)))"
   ]
  },
  {
   "cell_type": "code",
   "execution_count": 15,
   "metadata": {},
   "outputs": [
    {
     "name": "stdout",
     "output_type": "stream",
     "text": [
      "1\n",
      "2\n"
     ]
    }
   ],
   "source": [
    "print(arr[0])\n",
    "print(arr[1])"
   ]
  }
 ],
 "metadata": {
  "kernelspec": {
   "display_name": "Python 3",
   "language": "python",
   "name": "python3"
  },
  "language_info": {
   "codemirror_mode": {
    "name": "ipython",
    "version": 3
   },
   "file_extension": ".py",
   "mimetype": "text/x-python",
   "name": "python",
   "nbconvert_exporter": "python",
   "pygments_lexer": "ipython3",
   "version": "3.6.4"
  }
 },
 "nbformat": 4,
 "nbformat_minor": 2
}
